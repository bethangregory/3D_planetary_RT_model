{
 "cells": [
  {
   "cell_type": "markdown",
   "metadata": {
    "tags": []
   },
   "source": [
    "# H Corona sim test"
   ]
  },
  {
   "cell_type": "markdown",
   "metadata": {},
   "source": [
    "Import the relevant packages:"
   ]
  },
  {
   "cell_type": "code",
   "execution_count": null,
   "metadata": {},
   "outputs": [],
   "source": [
    "import numpy as np"
   ]
  },
  {
   "cell_type": "code",
   "execution_count": null,
   "metadata": {},
   "outputs": [],
   "source": [
    "%cd /home/mike/Documents/Mars/3D_planetary_RT_model/python\n",
    "%bookmark corona_model\n",
    "from py_corona_sim_gpu import Pyobservation_fit\n",
    "#from py_corona_sim_cpu import Pyobservation_fit\n",
    "%cd /home/mike"
   ]
  },
  {
   "cell_type": "code",
   "execution_count": null,
   "metadata": {},
   "outputs": [],
   "source": [
    "import idl_colorbars"
   ]
  },
  {
   "cell_type": "code",
   "execution_count": null,
   "metadata": {},
   "outputs": [],
   "source": [
    "from scipy.spatial.transform import Rotation as R"
   ]
  },
  {
   "cell_type": "code",
   "execution_count": null,
   "metadata": {},
   "outputs": [],
   "source": [
    "posdir=np.array([0,-1,0])\n",
    "posdir=posdir/np.linalg.norm(posdir)\n",
    "pos=10*3395e5*posdir\n",
    "\n",
    "right_dir=np.array([1,0,0])\n",
    "up_dir=np.cross(posdir,right_dir)\n",
    "up_dir=up_dir/np.linalg.norm(up_dir)\n",
    "right_dir=-np.cross(posdir,up_dir)\n",
    "right_dir=right_dir/np.linalg.norm(right_dir)\n",
    "\n",
    "center_dir=-posdir\n",
    "angle=60\n",
    "npix=600\n",
    "lookangles=np.linspace(-angle*np.pi/180.,angle*np.pi/180.,npix)"
   ]
  },
  {
   "cell_type": "code",
   "execution_count": null,
   "metadata": {},
   "outputs": [],
   "source": [
    "def lookdir(az,ax):\n",
    "    angle1=R.from_rotvec(-az*up_dir).as_matrix()\n",
    "    angle2=R.from_rotvec(ax*right_dir).as_matrix()\n",
    "    return np.array([*map(lambda x:np.matmul(x,center_dir),\n",
    "                          [*map(np.matmul,angle1,angle2)])])\n"
   ]
  },
  {
   "cell_type": "code",
   "execution_count": null,
   "metadata": {},
   "outputs": [],
   "source": [
    "anglepairs=np.array([([ax],[az]) for az in lookangles for ax in lookangles])\n",
    "all_lookangles=lookdir(anglepairs[:,0],anglepairs[:,1])\n",
    "all_pos = np.array([pos for i in all_lookangles])"
   ]
  },
  {
   "cell_type": "code",
   "execution_count": null,
   "metadata": {},
   "outputs": [],
   "source": [
    "pycorona = Pyobservation_fit()\n",
    "pycorona.add_observation(all_pos,all_lookangles)\n",
    "pycorona.set_g_factor([1.22848e-3,2.52e-6])\n",
    "import time\n",
    "time.sleep(1)"
   ]
  },
  {
   "cell_type": "code",
   "execution_count": null,
   "metadata": {},
   "outputs": [],
   "source": [
    "pycorona.corona_model_git_hash()"
   ]
  },
  {
   "cell_type": "raw",
   "metadata": {},
   "source": [
    "pycorona.set_use_CO2_absorption(False)"
   ]
  },
  {
   "cell_type": "code",
   "execution_count": null,
   "metadata": {},
   "outputs": [],
   "source": [
    "test_nH = 5e5\n",
    "test_Texo = 200\n",
    "%time pycorona.generate_source_function(test_nH,test_Texo)\n",
    "%time brightness = pycorona.brightness()\n",
    "%time species_col_dens = pycorona.species_col_dens()"
   ]
  },
  {
   "cell_type": "code",
   "execution_count": null,
   "metadata": {},
   "outputs": [],
   "source": [
    "absorption = np.exp(-np.where(pycorona.tau_absorber_final() == -1, 1e5, pycorona.tau_absorber_final()))"
   ]
  },
  {
   "cell_type": "code",
   "execution_count": null,
   "metadata": {},
   "outputs": [],
   "source": [
    "np.max(absorption*pycorona.tau_species_final(),axis=1)"
   ]
  },
  {
   "cell_type": "code",
   "execution_count": null,
   "metadata": {},
   "outputs": [],
   "source": [
    "brightness.max()"
   ]
  },
  {
   "cell_type": "code",
   "execution_count": null,
   "metadata": {},
   "outputs": [],
   "source": [
    "import matplotlib.pyplot as plt\n",
    "import seaborn as sns\n",
    "#sns.set()\n",
    "from matplotlib.colors import LogNorm,PowerNorm\n",
    "# C = some matrix\n",
    "f, ax = plt.subplots(1,dpi=250)\n",
    "\n",
    "import copy\n",
    "my_cmap = copy.copy(idl_colorbars.getcmap(109)) # copy the default cmap\n",
    "my_cmap.set_bad((0,0,0))\n",
    "\n",
    "im = ax.imshow(brightness[0].reshape((npix,npix)), cmap=my_cmap, norm=PowerNorm(0.5,vmin=0.0, vmax=12, clip=True))\n",
    "ax.set_title('Singlet CFR Treatment')\n",
    "t = [0,5,10,15,20]\n",
    "#im = ax.imshow(brightness.reshape((npix,npix)), cmap=my_cmap, norm=LogNorm(vmin=0.1, vmax=20, clip=True))\n",
    "#t = [0.1,0.5,1,5,10,20]\n",
    "\n",
    "ax.set_axis_off()\n",
    "\n",
    "from mpl_toolkits.axes_grid1 import make_axes_locatable\n",
    "divider = make_axes_locatable(ax)\n",
    "cax = divider.append_axes(\"right\", size=\"5%\", pad=0.05)\n",
    "f.colorbar(im, cax=cax)#, ticks=t, format='$%.2f$');\n",
    "cax.set_ylabel(r'H Ly $\\alpha$'+'\\n[kR]', rotation=0, labelpad=25);"
   ]
  },
  {
   "cell_type": "markdown",
   "metadata": {},
   "source": [
    "This will plot Lyman beta if observation_fit computes it:"
   ]
  },
  {
   "cell_type": "code",
   "execution_count": null,
   "metadata": {},
   "outputs": [],
   "source": [
    "import matplotlib.pyplot as plt\n",
    "import seaborn as sns\n",
    "#sns.set()\n",
    "from matplotlib.colors import LogNorm,PowerNorm\n",
    "# C = some matrix\n",
    "f, ax = plt.subplots(dpi=250)\n",
    "\n",
    "import copy\n",
    "my_cmap = copy.copy(idl_colorbars.getcmap(114)) # copy the default cmap\n",
    "my_cmap.set_bad((0,0,0))\n",
    "\n",
    "im = ax.imshow(brightness[1].reshape((npix,npix))*1000, cmap=my_cmap, norm=PowerNorm(0.5,vmin=0.0, vmax=80, clip=True))\n",
    "#t = [0,50,100]\n",
    "#im = ax.imshow(brightness.reshape((npix,npix)), cmap=my_cmap, norm=LogNorm(vmin=0.1, vmax=20, clip=True))\n",
    "#t = [0.1,0.5,1,5,10,20]\n",
    "\n",
    "ax.set_axis_off()\n",
    "\n",
    "from mpl_toolkits.axes_grid1 import make_axes_locatable\n",
    "divider = make_axes_locatable(ax)\n",
    "cax = divider.append_axes(\"right\", size=\"5%\", pad=0.05)\n",
    "f.colorbar(im, cax=cax)#, ticks=t, format='$%.2f$');\n",
    "cax.set_ylabel(r'H Ly $\\beta$'+'\\n[R]', rotation=0, labelpad=25);"
   ]
  },
  {
   "cell_type": "code",
   "execution_count": null,
   "metadata": {},
   "outputs": [],
   "source": [
    "import matplotlib.pyplot as plt\n",
    "import seaborn as sns\n",
    "#sns.set()\n",
    "from matplotlib.colors import LogNorm,PowerNorm\n",
    "# C = some matrix\n",
    "f, ax = plt.subplots(1,dpi=250)\n",
    "\n",
    "import copy\n",
    "my_cmap = copy.copy(idl_colorbars.getcmap(49)) # copy the default cmap\n",
    "my_cmap.set_bad((0,0,0))\n",
    "\n",
    "im = ax.imshow(species_col_dens[0].reshape((npix,npix)), cmap=my_cmap, norm=LogNorm())#PowerNorm(0.5, vmin=0.0, vmax=species_col_dens.max(), clip=True))\n",
    "#t = [0,5,10,15,20]\n",
    "#im = ax.imshow(brightness.reshape((npix,npix)), cmap=my_cmap, norm=LogNorm(vmin=0.1, vmax=20, clip=True))\n",
    "#t = [0.1,0.5,1,5,10,20]\n",
    "\n",
    "ax.set_axis_off()\n",
    "\n",
    "from mpl_toolkits.axes_grid1 import make_axes_locatable\n",
    "divider = make_axes_locatable(ax)\n",
    "cax = divider.append_axes(\"right\", size=\"5%\", pad=0.05)\n",
    "f.colorbar(im, cax=cax)#, ticks=t, format='$%.2f$');\n",
    "cax.set_ylabel(r'H col. dens.'+'\\n'+r'[cm$^{-2}$]', rotation=0, labelpad=35);"
   ]
  },
  {
   "cell_type": "code",
   "execution_count": null,
   "metadata": {},
   "outputs": [],
   "source": [
    "np.log10(2*test_nH*3595e5)"
   ]
  },
  {
   "cell_type": "code",
   "execution_count": null,
   "metadata": {},
   "outputs": [],
   "source": [
    "np.max(species_col_dens)"
   ]
  },
  {
   "cell_type": "markdown",
   "metadata": {},
   "source": [
    "# Deuterium"
   ]
  },
  {
   "cell_type": "code",
   "execution_count": null,
   "metadata": {},
   "outputs": [],
   "source": [
    "test_nD = test_nH /100. #5.5e3\n",
    "%time pycorona.generate_source_function(test_nD,test_Texo, deuterium=True)\n",
    "%time D_brightness = pycorona.D_brightness()\n",
    "%time D_col_dens = pycorona.D_col_dens()"
   ]
  },
  {
   "cell_type": "code",
   "execution_count": null,
   "metadata": {},
   "outputs": [],
   "source": [
    "absorption = np.exp(-np.where(pycorona.tau_absorber_final() == -1, 1e5, pycorona.tau_absorber_final()))"
   ]
  },
  {
   "cell_type": "code",
   "execution_count": null,
   "metadata": {},
   "outputs": [],
   "source": [
    "np.max(absorption*pycorona.tau_D_final(),axis=1)"
   ]
  },
  {
   "cell_type": "code",
   "execution_count": null,
   "metadata": {},
   "outputs": [],
   "source": [
    "brightness.max()"
   ]
  },
  {
   "cell_type": "code",
   "execution_count": null,
   "metadata": {},
   "outputs": [],
   "source": [
    "import matplotlib.pyplot as plt\n",
    "import seaborn as sns\n",
    "#sns.set()\n",
    "from matplotlib.colors import LogNorm,PowerNorm\n",
    "# C = some matrix\n",
    "f, ax = plt.subplots(1,dpi=250)\n",
    "\n",
    "import copy\n",
    "my_cmap = copy.copy(idl_colorbars.getcmap(109)) # copy the default cmap\n",
    "my_cmap.set_bad((0,0,0))\n",
    "\n",
    "im = ax.imshow(D_brightness[0].reshape((npix,npix)), cmap=my_cmap, norm=PowerNorm(0.5,\n",
    "                                                                                  vmin=0.0, \n",
    "                                                                                  vmax=D_brightness.max(), # 1.6, #\n",
    "                                                                                  clip=True))\n",
    "t = [0,5,10,15,20]\n",
    "#im = ax.imshow(brightness.reshape((npix,npix)), cmap=my_cmap, norm=LogNorm(vmin=0.1, vmax=20, clip=True))\n",
    "#t = [0.1,0.5,1,5,10,20]\n",
    "\n",
    "ax.set_axis_off()\n",
    "\n",
    "from mpl_toolkits.axes_grid1 import make_axes_locatable\n",
    "divider = make_axes_locatable(ax)\n",
    "cax = divider.append_axes(\"right\", size=\"5%\", pad=0.05)\n",
    "f.colorbar(im, cax=cax)#, ticks=t, format='$%.2f$');\n",
    "cax.set_ylabel(r'D Ly $\\alpha$'+'\\n[kR]', rotation=0, labelpad=25);"
   ]
  },
  {
   "cell_type": "markdown",
   "metadata": {},
   "source": [
    "This will plot Lyman beta if observation_fit computes it:"
   ]
  },
  {
   "cell_type": "code",
   "execution_count": null,
   "metadata": {},
   "outputs": [],
   "source": [
    "import matplotlib.pyplot as plt\n",
    "import seaborn as sns\n",
    "#sns.set()\n",
    "from matplotlib.colors import LogNorm,PowerNorm\n",
    "# C = some matrix\n",
    "f, ax = plt.subplots(dpi=250)\n",
    "\n",
    "import copy\n",
    "my_cmap = copy.copy(idl_colorbars.getcmap(114)) # copy the default cmap\n",
    "my_cmap.set_bad((0,0,0))\n",
    "\n",
    "im = ax.imshow(D_brightness[1].reshape((npix,npix))*1000, cmap=my_cmap, norm=PowerNorm(0.5,vmin=0.0, vmax=1000*D_brightness[1].max(), clip=True))\n",
    "#t = [0,50,100]\n",
    "#im = ax.imshow(brightness.reshape((npix,npix)), cmap=my_cmap, norm=LogNorm(vmin=0.1, vmax=20, clip=True))\n",
    "#t = [0.1,0.5,1,5,10,20]\n",
    "\n",
    "ax.set_axis_off()\n",
    "\n",
    "from mpl_toolkits.axes_grid1 import make_axes_locatable\n",
    "divider = make_axes_locatable(ax)\n",
    "cax = divider.append_axes(\"right\", size=\"5%\", pad=0.05)\n",
    "f.colorbar(im, cax=cax)#, ticks=t, format='$%.2f$');\n",
    "cax.set_ylabel(r'D Ly $\\beta$'+'\\n[R]', rotation=0, labelpad=25);"
   ]
  },
  {
   "cell_type": "code",
   "execution_count": null,
   "metadata": {},
   "outputs": [],
   "source": [
    "import matplotlib.pyplot as plt\n",
    "import seaborn as sns\n",
    "#sns.set()\n",
    "from matplotlib.colors import LogNorm,PowerNorm\n",
    "# C = some matrix\n",
    "f, ax = plt.subplots(1,dpi=250)\n",
    "\n",
    "import copy\n",
    "my_cmap = copy.copy(idl_colorbars.getcmap(49)) # copy the default cmap\n",
    "my_cmap.set_bad((0,0,0))\n",
    "\n",
    "toshow=D_col_dens[0].reshape((npix,npix))\n",
    "logmin=np.nanmin(toshow)\n",
    "toshow[toshow<logmin] = logmin\n",
    "\n",
    "im = ax.imshow(toshow, cmap=my_cmap, norm=LogNorm()) \n",
    "# norm=PowerNorm(0.5, vmin=0.0, vmax=D_col_dens.max(), clip=True)) #\n",
    "#t = [0,5,10,15,20]\n",
    "#im = ax.imshow(brightness.reshape((npix,npix)), cmap=my_cmap, norm=LogNorm(vmin=0.1, vmax=20, clip=True))\n",
    "#t = [0.1,0.5,1,5,10,20]\n",
    "\n",
    "ax.set_axis_off()\n",
    "\n",
    "from mpl_toolkits.axes_grid1 import make_axes_locatable\n",
    "divider = make_axes_locatable(ax)\n",
    "cax = divider.append_axes(\"right\", size=\"5%\", pad=0.05)\n",
    "f.colorbar(im, cax=cax)#, ticks=t, format='$%.2f$');\n",
    "cax.set_ylabel(r'D col. dens.'+'\\n'+r'[cm$^{-2}$]', rotation=0, labelpad=35);"
   ]
  },
  {
   "cell_type": "code",
   "execution_count": null,
   "metadata": {},
   "outputs": [],
   "source": [
    "np.log10(2*test_nD*3595e5)"
   ]
  },
  {
   "cell_type": "code",
   "execution_count": null,
   "metadata": {},
   "outputs": [],
   "source": [
    "np.log10(np.max(D_col_dens))"
   ]
  },
  {
   "cell_type": "markdown",
   "metadata": {},
   "source": [
    "# Lyman Alpha / Beta Doublet Simulation"
   ]
  },
  {
   "cell_type": "code",
   "execution_count": null,
   "metadata": {},
   "outputs": [],
   "source": [
    "test_nH"
   ]
  },
  {
   "cell_type": "code",
   "execution_count": null,
   "metadata": {},
   "outputs": [],
   "source": [
    "pycorona.lyman_multiplet_generate_source_function(test_nH, \n",
    "                                                  test_Texo, \n",
    "                                                  '/home/mike/Desktop/check_atm.dat',\n",
    "                                                  '/home/mike/Desktop/check_sfn.dat')\n",
    "%time multiplet_brightness = pycorona.lyman_multiplet_brightness()"
   ]
  },
  {
   "cell_type": "code",
   "execution_count": null,
   "metadata": {},
   "outputs": [],
   "source": [
    "multiplet_brightness.max()"
   ]
  },
  {
   "cell_type": "code",
   "execution_count": null,
   "metadata": {
    "tags": []
   },
   "outputs": [],
   "source": [
    "import matplotlib.pyplot as plt\n",
    "import seaborn as sns\n",
    "#sns.set()\n",
    "from matplotlib.colors import LogNorm,PowerNorm\n",
    "# C = some matrix\n",
    "f, ax = plt.subplots(1,dpi=250)\n",
    "\n",
    "import copy\n",
    "my_cmap = copy.copy(idl_colorbars.getcmap(109)) # copy the default cmap\n",
    "my_cmap.set_bad((0,0,0))\n",
    "\n",
    "im = ax.imshow(multiplet_brightness[0].reshape((npix,npix)), cmap=my_cmap, norm=PowerNorm(0.5,vmin=0.0, vmax=12, clip=True))\n",
    "t = [0,5,10,15,20]\n",
    "#im = ax.imshow(multiplet_brightness.reshape((npix,npix)), cmap=my_cmap, norm=LogNorm(vmin=0.1, vmax=20, clip=True))\n",
    "#t = [0.1,0.5,1,5,10,20]\n",
    "ax.set_title('Full Doublet Treatment')\n",
    "\n",
    "ax.set_axis_off()\n",
    "\n",
    "from mpl_toolkits.axes_grid1 import make_axes_locatable\n",
    "divider = make_axes_locatable(ax)\n",
    "cax = divider.append_axes(\"right\", size=\"5%\", pad=0.05)\n",
    "f.colorbar(im, cax=cax)#, ticks=t, format='$%.2f$');\n",
    "cax.set_ylabel(r'H Ly $\\alpha$'+'\\n[kR]', rotation=0, labelpad=25);"
   ]
  },
  {
   "cell_type": "code",
   "execution_count": null,
   "metadata": {},
   "outputs": [],
   "source": [
    "f, ax = plt.subplots(1,dpi=250)\n",
    "im = ax.imshow(multiplet_brightness[0].reshape((npix,npix))-brightness[0].reshape((npix,npix)))\n",
    "plt.colorbar(im)"
   ]
  },
  {
   "cell_type": "code",
   "execution_count": null,
   "metadata": {},
   "outputs": [],
   "source": [
    "f, ax = plt.subplots(1,dpi=250)\n",
    "im = ax.imshow(multiplet_brightness[0].reshape((npix,npix))/brightness[0].reshape((npix,npix))-1)\n",
    "plt.colorbar(im)"
   ]
  },
  {
   "cell_type": "markdown",
   "metadata": {},
   "source": [
    "This will plot Lyman beta if observation_fit computes it:"
   ]
  },
  {
   "cell_type": "code",
   "execution_count": null,
   "metadata": {},
   "outputs": [],
   "source": [
    "import matplotlib.pyplot as plt\n",
    "import seaborn as sns\n",
    "#sns.set()\n",
    "from matplotlib.colors import LogNorm,PowerNorm\n",
    "# C = some matrix\n",
    "f, ax = plt.subplots(dpi=250)\n",
    "\n",
    "import copy\n",
    "my_cmap = copy.copy(idl_colorbars.getcmap(114)) # copy the default cmap\n",
    "my_cmap.set_bad((0,0,0))\n",
    "\n",
    "im = ax.imshow(multiplet_brightness[1].reshape((npix,npix))*1000, cmap=my_cmap, norm=PowerNorm(0.5,vmin=0.0, vmax=80, clip=True))\n",
    "#t = [0,50,100]\n",
    "#im = ax.imshow(multiplet_brightness.reshape((npix,npix)), cmap=my_cmap, norm=LogNorm(vmin=0.1, vmax=20, clip=True))\n",
    "#t = [0.1,0.5,1,5,10,20]\n",
    "\n",
    "ax.set_axis_off()\n",
    "\n",
    "from mpl_toolkits.axes_grid1 import make_axes_locatable\n",
    "divider = make_axes_locatable(ax)\n",
    "cax = divider.append_axes(\"right\", size=\"5%\", pad=0.05)\n",
    "f.colorbar(im, cax=cax)#, ticks=t, format='$%.2f$');\n",
    "cax.set_ylabel(r'H Ly $\\beta$'+'\\n[R]', rotation=0, labelpad=25);"
   ]
  },
  {
   "cell_type": "code",
   "execution_count": null,
   "metadata": {},
   "outputs": [],
   "source": [
    "f, ax = plt.subplots(1,dpi=250)\n",
    "im = ax.imshow(1000*(multiplet_brightness[1].reshape((npix,npix))-brightness[1].reshape((npix,npix))))\n",
    "plt.colorbar(im)"
   ]
  },
  {
   "cell_type": "code",
   "execution_count": null,
   "metadata": {},
   "outputs": [],
   "source": [
    "f, ax = plt.subplots(1,dpi=250)\n",
    "im = ax.imshow(multiplet_brightness[1].reshape((npix,npix))/brightness[1].reshape((npix,npix))-1)\n",
    "plt.colorbar(im)"
   ]
  },
  {
   "cell_type": "markdown",
   "metadata": {},
   "source": [
    "# Lyman Alpha / Beta Singlet Simulation"
   ]
  },
  {
   "cell_type": "code",
   "execution_count": null,
   "metadata": {},
   "outputs": [],
   "source": [
    "test_nH"
   ]
  },
  {
   "cell_type": "code",
   "execution_count": null,
   "metadata": {},
   "outputs": [],
   "source": [
    "pycorona.lyman_singlet_generate_source_function(test_nH, \n",
    "                                                  test_Texo, \n",
    "                                                  '/home/mike/Desktop/check_atm.dat',\n",
    "                                                  '/home/mike/Desktop/check_sfn.dat')\n",
    "%time singlet_brightness = pycorona.lyman_singlet_brightness()"
   ]
  },
  {
   "cell_type": "code",
   "execution_count": null,
   "metadata": {},
   "outputs": [],
   "source": [
    "singlet_brightness.max()"
   ]
  },
  {
   "cell_type": "code",
   "execution_count": null,
   "metadata": {
    "tags": []
   },
   "outputs": [],
   "source": [
    "import matplotlib.pyplot as plt\n",
    "import seaborn as sns\n",
    "#sns.set()\n",
    "from matplotlib.colors import LogNorm,PowerNorm\n",
    "# C = some matrix\n",
    "f, ax = plt.subplots(1,dpi=250)\n",
    "\n",
    "import copy\n",
    "my_cmap = copy.copy(idl_colorbars.getcmap(109)) # copy the default cmap\n",
    "my_cmap.set_bad((0,0,0))\n",
    "\n",
    "im = ax.imshow(singlet_brightness[0].reshape((npix,npix)), cmap=my_cmap, norm=PowerNorm(0.5,vmin=0.0, vmax=12, clip=True))\n",
    "t = [0,5,10,15,20]\n",
    "#im = ax.imshow(singlet_brightness.reshape((npix,npix)), cmap=my_cmap, norm=LogNorm(vmin=0.1, vmax=20, clip=True))\n",
    "#t = [0.1,0.5,1,5,10,20]\n",
    "\n",
    "ax.set_title('Singlet via Multiplet Code')\n",
    "ax.set_axis_off()\n",
    "\n",
    "from mpl_toolkits.axes_grid1 import make_axes_locatable\n",
    "divider = make_axes_locatable(ax)\n",
    "cax = divider.append_axes(\"right\", size=\"5%\", pad=0.05)\n",
    "f.colorbar(im, cax=cax)#, ticks=t, format='$%.2f$');\n",
    "cax.set_ylabel(r'H Ly $\\alpha$'+'\\n[kR]', rotation=0, labelpad=25);"
   ]
  },
  {
   "cell_type": "code",
   "execution_count": null,
   "metadata": {},
   "outputs": [],
   "source": [
    "f, ax = plt.subplots(1,dpi=250)\n",
    "im = ax.imshow(singlet_brightness[0].reshape((npix,npix))-brightness[0].reshape((npix,npix)))\n",
    "ax.set_axis_off()\n",
    "\n",
    "from mpl_toolkits.axes_grid1 import make_axes_locatable\n",
    "divider = make_axes_locatable(ax)\n",
    "cax = divider.append_axes(\"right\", size=\"5%\", pad=0.05)\n",
    "f.colorbar(im, cax=cax)#, ticks=t, format='$%.2f$');\n",
    "cax.set_ylabel('SvM - S\\n[kR]', rotation=0, labelpad=25);"
   ]
  },
  {
   "cell_type": "code",
   "execution_count": null,
   "metadata": {},
   "outputs": [],
   "source": [
    "f, ax = plt.subplots(1,dpi=250)\n",
    "im = ax.imshow(singlet_brightness[0].reshape((npix,npix))/brightness[0].reshape((npix,npix))-1)\n",
    "ax.set_axis_off()\n",
    "\n",
    "from mpl_toolkits.axes_grid1 import make_axes_locatable\n",
    "divider = make_axes_locatable(ax)\n",
    "cax = divider.append_axes(\"right\", size=\"5%\", pad=0.05)\n",
    "f.colorbar(im, cax=cax)#, ticks=t, format='$%.2f$');\n",
    "cax.set_ylabel('(SvM - S)/S\\n[%]', rotation=0, labelpad=25);"
   ]
  },
  {
   "cell_type": "code",
   "execution_count": null,
   "metadata": {},
   "outputs": [],
   "source": [
    "f, ax = plt.subplots(1,dpi=250)\n",
    "im = ax.imshow(multiplet_brightness[0].reshape((npix,npix))-singlet_brightness[0].reshape((npix,npix)))\n",
    "plt.colorbar(im)"
   ]
  },
  {
   "cell_type": "markdown",
   "metadata": {},
   "source": [
    "This will plot Lyman beta if observation_fit computes it:"
   ]
  },
  {
   "cell_type": "code",
   "execution_count": null,
   "metadata": {},
   "outputs": [],
   "source": [
    "import matplotlib.pyplot as plt\n",
    "import seaborn as sns\n",
    "#sns.set()\n",
    "from matplotlib.colors import LogNorm,PowerNorm\n",
    "# C = some matrix\n",
    "f, ax = plt.subplots(dpi=250)\n",
    "\n",
    "import copy\n",
    "my_cmap = copy.copy(idl_colorbars.getcmap(114)) # copy the default cmap\n",
    "my_cmap.set_bad((0,0,0))\n",
    "\n",
    "im = ax.imshow(singlet_brightness[1].reshape((npix,npix))*1000, cmap=my_cmap, norm=PowerNorm(0.5,vmin=0.0, vmax=80, clip=True))\n",
    "#t = [0,50,100]\n",
    "#im = ax.imshow(singlet_brightness.reshape((npix,npix)), cmap=my_cmap, norm=LogNorm(vmin=0.1, vmax=20, clip=True))\n",
    "#t = [0.1,0.5,1,5,10,20]\n",
    "\n",
    "ax.set_axis_off()\n",
    "\n",
    "from mpl_toolkits.axes_grid1 import make_axes_locatable\n",
    "divider = make_axes_locatable(ax)\n",
    "cax = divider.append_axes(\"right\", size=\"5%\", pad=0.05)\n",
    "f.colorbar(im, cax=cax)#, ticks=t, format='$%.2f$');\n",
    "cax.set_ylabel(r'H Ly $\\beta$'+'\\n[R]', rotation=0, labelpad=25);"
   ]
  },
  {
   "cell_type": "code",
   "execution_count": null,
   "metadata": {},
   "outputs": [],
   "source": [
    "f, ax = plt.subplots(1,dpi=250)\n",
    "im = ax.imshow(1000*(singlet_brightness[1].reshape((npix,npix))-brightness[1].reshape((npix,npix))))\n",
    "plt.colorbar(im)"
   ]
  },
  {
   "cell_type": "code",
   "execution_count": null,
   "metadata": {},
   "outputs": [],
   "source": [
    "f, ax = plt.subplots(1,dpi=250)\n",
    "im = ax.imshow(1000*(singlet_brightness[1].reshape((npix,npix)) - multiplet_brightness[1].reshape((npix,npix))))\n",
    "plt.colorbar(im)"
   ]
  },
  {
   "cell_type": "code",
   "execution_count": null,
   "metadata": {},
   "outputs": [],
   "source": [
    "f, ax = plt.subplots(1,dpi=250)\n",
    "im = ax.imshow(singlet_brightness[1].reshape((npix,npix))/brightness[1].reshape((npix,npix))-1)\n",
    "plt.colorbar(im)"
   ]
  },
  {
   "cell_type": "code",
   "execution_count": null,
   "metadata": {},
   "outputs": [],
   "source": [
    "f, ax = plt.subplots(1,dpi=250)\n",
    "im = ax.imshow(multiplet_brightness[0].reshape((npix,npix))-singlet_brightness[0].reshape((npix,npix)))\n",
    "ax.set_axis_off()\n",
    "\n",
    "from mpl_toolkits.axes_grid1 import make_axes_locatable\n",
    "divider = make_axes_locatable(ax)\n",
    "cax = divider.append_axes(\"right\", size=\"5%\", pad=0.05)\n",
    "f.colorbar(im, cax=cax)#, ticks=t, format='$%.2f$');\n",
    "cax.set_ylabel('D - SvM\\n[kR]', rotation=0, labelpad=25);"
   ]
  },
  {
   "cell_type": "code",
   "execution_count": null,
   "metadata": {},
   "outputs": [],
   "source": [
    "f, ax = plt.subplots(1,dpi=250)\n",
    "im = ax.imshow(1000*(multiplet_brightness[1].reshape((npix,npix))-singlet_brightness[1].reshape((npix,npix))))\n",
    "ax.set_axis_off()\n",
    "\n",
    "from mpl_toolkits.axes_grid1 import make_axes_locatable\n",
    "divider = make_axes_locatable(ax)\n",
    "cax = divider.append_axes(\"right\", size=\"5%\", pad=0.05)\n",
    "f.colorbar(im, cax=cax)#, ticks=t, format='$%.2f$');\n",
    "cax.set_ylabel('D - SvM\\n[R]', rotation=0, labelpad=25);"
   ]
  },
  {
   "cell_type": "code",
   "execution_count": null,
   "metadata": {},
   "outputs": [],
   "source": [
    "f, ax = plt.subplots(1,dpi=250)\n",
    "im = ax.imshow(100*(multiplet_brightness[1].reshape((npix,npix))/singlet_brightness[1].reshape((npix,npix))-1))\n",
    "ax.set_axis_off()\n",
    "\n",
    "from mpl_toolkits.axes_grid1 import make_axes_locatable\n",
    "divider = make_axes_locatable(ax)\n",
    "cax = divider.append_axes(\"right\", size=\"5%\", pad=0.05)\n",
    "f.colorbar(im, cax=cax)#, ticks=t, format='$%.2f$');\n",
    "cax.set_ylabel('D/SvM - 1 \\n[%]', rotation=0, labelpad=25);"
   ]
  },
  {
   "cell_type": "markdown",
   "metadata": {},
   "source": [
    "# Source Function Inspection"
   ]
  },
  {
   "cell_type": "code",
   "execution_count": null,
   "metadata": {},
   "outputs": [],
   "source": [
    "import tempfile"
   ]
  },
  {
   "cell_type": "code",
   "execution_count": null,
   "metadata": {},
   "outputs": [],
   "source": [
    "fname = tempfile.NamedTemporaryFile()"
   ]
  },
  {
   "cell_type": "code",
   "execution_count": null,
   "metadata": {},
   "outputs": [],
   "source": [
    "fname.name"
   ]
  },
  {
   "cell_type": "code",
   "execution_count": null,
   "metadata": {},
   "outputs": [],
   "source": [
    "def sfn_readline(line):\n",
    "    if not \":\" in line:\n",
    "        # this is a potential header, return without stripping\n",
    "        return [line, []]\n",
    "    \n",
    "    name, data = line.split(\":\")\n",
    "    return [name, np.fromstring(data.strip(),sep=\" \")]\n",
    "\n",
    "def sfn_dict_append(sfn, file):\n",
    "    emission_dict_name=None\n",
    "    variable_dict_name=None\n",
    "    level_dict_name=None\n",
    "    subdict=sfn\n",
    "    \n",
    "    for line in file:\n",
    "        name, data = sfn_readline(line)\n",
    "\n",
    "        # figure out where to place the data on this line\n",
    "\n",
    "        # figure out the indent level (number of leading spaces / 2)\n",
    "        indent_level = (len(name) - len(name.lstrip()))/2\n",
    "        if indent_level==0 and len(data)==0:\n",
    "            emission_dict_name = name.strip().replace('For ','')\n",
    "            if emission_dict_name not in sfn.keys():\n",
    "                sfn[emission_dict_name] = dict()\n",
    "            emission_dict = sfn[emission_dict_name]\n",
    "            subdict=emission_dict\n",
    "            continue\n",
    "        if indent_level==1:\n",
    "            # only SZA lives at this level\n",
    "            continue\n",
    "        if indent_level==2 and len(data)==0:\n",
    "            # density, optical depth, etc.\n",
    "            variable_dict_name = name.strip()\n",
    "            if variable_dict_name not in sfn[emission_dict_name].keys():\n",
    "                sfn[emission_dict_name][variable_dict_name] = dict()\n",
    "            subdict = sfn[emission_dict_name][variable_dict_name]\n",
    "            continue\n",
    "        if indent_level==2 and len(data)>0:\n",
    "            subdict=emission_dict\n",
    "\n",
    "        name = name.strip()\n",
    "        if name in subdict.keys():\n",
    "            if subdict[name].ndim==1:\n",
    "                subdict[name] = subdict[name][np.newaxis,:]\n",
    "            subdict[name] = np.append(subdict[name], [data], axis=0)\n",
    "        else:\n",
    "            subdict[name] = data\n",
    "\n",
    "def get_source_function(nH, T):\n",
    "    fname = tempfile.NamedTemporaryFile()\n",
    "    pycorona.generate_source_function(nH, T, sourcefn_fname=fname.name)\n",
    "    sourcefn_file=np.loadtxt(fname.name,dtype=str,delimiter=\"\\n\")\n",
    "    sfn=dict()\n",
    "    sfn_dict_append(sfn,sourcefn_file)\n",
    "    return sfn"
   ]
  },
  {
   "cell_type": "code",
   "execution_count": null,
   "metadata": {},
   "outputs": [],
   "source": [
    "pycorona.set_use_CO2_absorption(True)"
   ]
  },
  {
   "cell_type": "code",
   "execution_count": null,
   "metadata": {},
   "outputs": [],
   "source": [
    "sfn=get_source_function(5e5, 200)"
   ]
  },
  {
   "cell_type": "code",
   "execution_count": null,
   "metadata": {},
   "outputs": [],
   "source": [
    "def plot_H_sourcefn(sfn, x_alt=True):\n",
    "    fig, ax = plt.subplots(ncols=2,figsize=(9,4),\n",
    "                           sharex=True,sharey=True,\n",
    "                           gridspec_kw={'wspace':0.15},\n",
    "                           dpi=150)\n",
    "    \n",
    "    if x_alt:\n",
    "        alt = 1e-5*(sfn['pts radii [cm]']-3395e5)\n",
    "        x = [alt, alt, alt]\n",
    "        ax[0].set_xlim([80,1e5])\n",
    "        ax[1].set_xlim([80,1e5])\n",
    "        ax[0].set_xscale('log')\n",
    "        ax[0].set_xlabel('Altitude [km]')\n",
    "    else:\n",
    "        tau0 = [sfn['H Lyman alpha']['Species single scattering tau'][0],\n",
    "                sfn['H Lyman beta']['Species single scattering tau'][0]]\n",
    "        x = tau0\n",
    "        ax[0].set_xscale('log')\n",
    "        ax[1].set_xscale('log')\n",
    "        ax[0].invert_xaxis()\n",
    "        ax[1].invert_yaxis()\n",
    "        #ax[0].set_xlim([1e0,1e-8])\n",
    "        #ax[1].set_xlim([1e1,1e-7])\n",
    "        ax[0].set_xlabel(r'Line Center $\\tau$')\n",
    "        \n",
    "    \n",
    "    cmap = idl_colorbars.getcmap(80,reverse=True)\n",
    "    \n",
    "    nsza = len(sfn['pts sza [rad]'])\n",
    "    for isza in range(nsza):\n",
    "        ax[0].plot(x[0], sfn['H Lyman alpha']['Source function'][isza], color=cmap(isza/(nsza-1)))\n",
    "        ax[1].plot(x[1], sfn['H Lyman beta']['Source function'][isza], color=cmap(isza/(nsza-1)))\n",
    "    \n",
    "    ax[0].set_title('Lyman alpha')\n",
    "    ax[1].set_title('Lyman beta')\n",
    "    \n",
    "    ax[0].set_ylabel('Upper State Density / Optically Thin Density')\n",
    "\n",
    "    ax[0].set_ylim([0,2.75])\n",
    "    \n",
    "#     ax[1].set_ylim([5e-4,10])\n",
    "#     ax[1].set_yscale('log')\n",
    "    \n",
    "    ax[1].set_ylim([0,2.5])\n",
    "    #ax[1].set_yscale('log')"
   ]
  },
  {
   "cell_type": "code",
   "execution_count": null,
   "metadata": {},
   "outputs": [],
   "source": [
    "plot_H_sourcefn(sfn, x_alt=False)"
   ]
  },
  {
   "cell_type": "code",
   "execution_count": null,
   "metadata": {},
   "outputs": [],
   "source": [
    "cmap = idl_colorbars.getcmap(80,reverse=True)\n",
    "\n",
    "fig, ax = plt.subplots(nrows=2, sharex=True)\n",
    "\n",
    "nsza = len(sfn['pts sza [rad]'])\n",
    "for isza in range(nsza):\n",
    "    ax[0].plot(sfn['H Lyman beta']['Species single scattering tau'][0], \n",
    "             sfn['H Lyman beta']['Source function'][isza],\n",
    "             color=cmap(isza/(nsza-1)));\n",
    "    ax[0].plot(sfn['H Lyman beta']['Species single scattering tau'][0], \n",
    "             sfn['H Lyman beta']['Species single scattering source function S0'][isza],\n",
    "             color=cmap(isza/(nsza-1)),\n",
    "             lw=0.5);\n",
    "\n",
    "thickthinratio = (sfn['H Lyman beta']['Source function'][0]\n",
    "                  /\n",
    "                  sfn['H Lyman beta']['Species single scattering source function S0'][0])    \n",
    "\n",
    "for isza in range(nsza):\n",
    "    ax[1].plot(sfn['H Lyman beta']['Species single scattering tau'][0], \n",
    "               thickthinratio,\n",
    "               color=cmap(0));\n",
    "\n",
    "ax[0].set_xscale('log')"
   ]
  },
  {
   "cell_type": "code",
   "execution_count": null,
   "metadata": {},
   "outputs": [],
   "source": [
    "1/0.12"
   ]
  },
  {
   "cell_type": "code",
   "execution_count": null,
   "metadata": {},
   "outputs": [],
   "source": [
    "thickthinratio"
   ]
  },
  {
   "cell_type": "code",
   "execution_count": null,
   "metadata": {},
   "outputs": [],
   "source": [
    "plot_H_sourcefn(sfn)"
   ]
  },
  {
   "cell_type": "code",
   "execution_count": null,
   "metadata": {},
   "outputs": [],
   "source": [
    "(sc_mso, fov_mso) = np.load('/home/mike/Documents/EMM/emm_sys015_limb_geom.npy')\n",
    "sys15_alt = np.load('/home/mike/Documents/EMM/emm_sys015_limb_alt.npy')"
   ]
  },
  {
   "cell_type": "code",
   "execution_count": null,
   "metadata": {},
   "outputs": [],
   "source": [
    "fov_mso.shape"
   ]
  },
  {
   "cell_type": "code",
   "execution_count": null,
   "metadata": {},
   "outputs": [],
   "source": [
    "pycorona.add_observation(sc_mso,fov_mso)\n",
    "time.sleep(1)"
   ]
  },
  {
   "cell_type": "code",
   "execution_count": null,
   "metadata": {},
   "outputs": [],
   "source": [
    "def get_model_brightness(nH, Texo):\n",
    "    # get H brightness\n",
    "    pycorona.generate_source_function(nH,Texo)\n",
    "    pycorona.set_g_factor([1.22848e-3, 2.05e-6])\n",
    "    H_brightness = 1000*pycorona.brightness()\n",
    "    \n",
    "    lyman_beta_brightness = np.reshape(H_brightness[1], (4,360,128))\n",
    "    \n",
    "    return np.mean(lyman_beta_brightness, axis=(0,2))"
   ]
  },
  {
   "cell_type": "code",
   "execution_count": null,
   "metadata": {
    "tags": []
   },
   "outputs": [],
   "source": [
    "lyb_brightness = [get_model_brightness(nH,200) for nH in np.logspace(-1,3,num=9,base=2)*1e5]"
   ]
  },
  {
   "cell_type": "code",
   "execution_count": null,
   "metadata": {},
   "outputs": [],
   "source": [
    "8*360*128"
   ]
  },
  {
   "cell_type": "code",
   "execution_count": null,
   "metadata": {
    "tags": []
   },
   "outputs": [],
   "source": [
    "lyb_brightness = [get_model_brightness(2e5,Texo) for Texo in np.linspace(100,300,9)]"
   ]
  },
  {
   "cell_type": "code",
   "execution_count": null,
   "metadata": {},
   "outputs": [],
   "source": [
    "fig, ax = plt.subplots(1, figsize=(3,4), dpi=150)\n",
    "[ax.plot(b,sys15_alt, color='C0') for b in lyb_brightness]\n",
    "ax.set_ylim([136,1000]);"
   ]
  },
  {
   "cell_type": "code",
   "execution_count": null,
   "metadata": {
    "tags": []
   },
   "outputs": [],
   "source": [
    "sfns = [get_source_function(nH,200) for nH in np.logspace(-1,3,num=9,base=2)*1e5]"
   ]
  },
  {
   "cell_type": "code",
   "execution_count": null,
   "metadata": {},
   "outputs": [],
   "source": [
    "plt.plot([(s['pts radii [cm]']/1e5-3395) for s in sfns]);\n",
    "plt.ylim([80,500])"
   ]
  },
  {
   "cell_type": "code",
   "execution_count": null,
   "metadata": {},
   "outputs": [],
   "source": [
    "plt.plot([(s['pts radii [cm]']/1e5-3395) for s in sfns]);\n",
    "plt.ylim([80,200])"
   ]
  },
  {
   "cell_type": "markdown",
   "metadata": {},
   "source": [
    "# Simulated EMM OS2 geometry"
   ]
  },
  {
   "cell_type": "code",
   "execution_count": null,
   "metadata": {},
   "outputs": [],
   "source": [
    "import numpy as np\n",
    "import spiceypy as spice\n",
    "import matplotlib.pyplot as plt"
   ]
  },
  {
   "cell_type": "code",
   "execution_count": null,
   "metadata": {},
   "outputs": [],
   "source": [
    "import matplotlib.pyplot as plt\n",
    "%matplotlib inline\n",
    "%config InlineBackend.print_figure_kwargs = {'bbox_inches':'tight'}\n",
    "plt.rcParams['figure.dpi']=300"
   ]
  },
  {
   "cell_type": "code",
   "execution_count": null,
   "metadata": {},
   "outputs": [],
   "source": [
    "spice.kclear()\n",
    "spice.furnsh(['/home/mike/Documents/EMM/science_closure_corona_figure/kernels/de430.bsp',\n",
    "              '/home/mike/Documents/EMM/science_closure_corona_figure/kernels/naif0011.tls',\n",
    "              '/home/mike/Documents/EMM/science_closure_corona_figure/kernels/pck00010.tpc',\n",
    "              '/home/mike/Documents/EMM/science_closure_corona_figure/kernels/mar097.bsp',\n",
    "              '/home/mike/Documents/EMM/science_closure_corona_figure/kernels/DE403-MASSES.TPC',\n",
    "              '/home/mike/Documents/MAVEN/IUVS/iuvs-itf-sw/anc/spice/mvn/fk/maven_v09.tf',\n",
    "              '/home/mike/Documents/EMM/science_closure_corona_figure/kernels/Amal.bsp'])\n",
    "#now info about EMM orbit is stored in spice body number -200000"
   ]
  },
  {
   "cell_type": "code",
   "execution_count": null,
   "metadata": {},
   "outputs": [],
   "source": [
    "#let's pick perihelion for an example image\n",
    "etstart=spice.str2et('2022 Jun 22')\n",
    "amalstate=spice.spkezr('-200000',etstart,'MAVEN_MME_2000','NONE','MARS')[0]"
   ]
  },
  {
   "cell_type": "code",
   "execution_count": null,
   "metadata": {},
   "outputs": [],
   "source": [
    "marsmu=spice.bodvrd('MARS','GM',1)[1][0]"
   ]
  },
  {
   "cell_type": "code",
   "execution_count": null,
   "metadata": {},
   "outputs": [],
   "source": [
    "elements=spice.oscltx(amalstate,etstart,marsmu)\n",
    "emm_ecc=elements[1]\n",
    "emm_inc=elements[2]\n",
    "emm_semimajor_axis=elements[-2]\n",
    "emm_orbit_period=elements[-1]"
   ]
  },
  {
   "cell_type": "code",
   "execution_count": null,
   "metadata": {},
   "outputs": [],
   "source": [
    "#find the location of periapsis\n",
    "#adapted from the spicepy gfposc tutorial\n",
    "MAXIVL = 1000\n",
    "MAXWIN = 2 * MAXIVL\n",
    "cnfine = spice.stypes.SPICEDOUBLE_CELL(2)\n",
    "spice.wninsd(etstart,etstart+emm_orbit_period,cnfine)\n",
    "riswin = spice.stypes.SPICEDOUBLE_CELL( MAXWIN )"
   ]
  },
  {
   "cell_type": "code",
   "execution_count": null,
   "metadata": {},
   "outputs": [],
   "source": [
    "spice.gfposc('-200000','MAVEN_MSO','NONE','MARS',\n",
    "             'LATITUDINAL','RADIUS','ABSMIN',0.0,\n",
    "             0.0,emm_orbit_period/2, MAXIVL, cnfine, riswin)\n",
    "emm_peritime=spice.wnfetd(riswin,0)[0]\n",
    "spice.timout(emm_peritime,'YYYY MON DD HR:MN:SC.### (TDB) ::TDB')"
   ]
  },
  {
   "cell_type": "code",
   "execution_count": null,
   "metadata": {},
   "outputs": [],
   "source": [
    "peri_state=spice.spkezr('-200000',emm_peritime,'MAVEN_MME_2000','NONE','MARS')[0]\n",
    "peri_elements=spice.oscltx(peri_state,emm_peritime,marsmu)"
   ]
  },
  {
   "cell_type": "code",
   "execution_count": null,
   "metadata": {},
   "outputs": [],
   "source": [
    "peri_state_mso=spice.spkezr('-200000',emm_peritime,'MAVEN_MSO','NONE','MARS')[0]\n",
    "peri_vec=-peri_state_mso[:3]/np.linalg.norm(peri_state_mso[:3])"
   ]
  },
  {
   "cell_type": "code",
   "execution_count": null,
   "metadata": {},
   "outputs": [],
   "source": [
    "orbit_subdivisions=1000\n",
    "etlist=emm_peritime+1.025*emm_orbit_period*np.linspace(0,1,num=orbit_subdivisions)"
   ]
  },
  {
   "cell_type": "code",
   "execution_count": null,
   "metadata": {},
   "outputs": [],
   "source": [
    "statelist=spice.spkezr('-200000',etlist,'MAVEN_MSO','NONE','MARS')[0]\n",
    "sundirection=spice.spkezr('SUN',etlist[0],'MAVEN_MSO','NONE','MARS')[0]"
   ]
  },
  {
   "cell_type": "code",
   "execution_count": null,
   "metadata": {},
   "outputs": [],
   "source": [
    "normvecs=[]\n",
    "for s in statelist:\n",
    "    c=np.cross(s[:3],s[-3:])\n",
    "    normvecs.append(c/np.linalg.norm(c))\n",
    "normal_vec=np.mean(normvecs,axis=0)\n",
    "cross_vec=np.cross(normal_vec,-peri_vec)\n",
    "\n",
    "sun_in_orb_vec=sundirection[:3]-np.dot(sundirection[:3],normal_vec)*normal_vec\n",
    "sun_in_orb_vec=sun_in_orb_vec/np.linalg.norm(sun_in_orb_vec)\n",
    "sun_cross_vec=np.cross(normal_vec,sun_in_orb_vec)"
   ]
  },
  {
   "cell_type": "code",
   "execution_count": null,
   "metadata": {},
   "outputs": [],
   "source": [
    "x_vec=sun_in_orb_vec\n",
    "y_vec=sun_cross_vec\n",
    "\n",
    "xyz=[]\n",
    "stateangles=[]\n",
    "for s in statelist:\n",
    "    xyz.append([np.dot(s[:3],x_vec),np.dot(s[:3],y_vec),np.dot(s[:3],normal_vec)])\n",
    "    orbcoords=xyz[-1][:2]/np.linalg.norm(xyz[-1][:2])\n",
    "    stateangles.append(np.arctan2(orbcoords[0],orbcoords[1]))\n",
    "xyz=np.array(xyz)\n",
    "\n",
    "sunxyz=[np.dot(sundirection[:3],x_vec),np.dot(sundirection[:3],y_vec),np.dot(sundirection[:3],normal_vec)]\n",
    "sunxyz=sunxyz/np.linalg.norm(sunxyz)"
   ]
  },
  {
   "cell_type": "code",
   "execution_count": null,
   "metadata": {},
   "outputs": [],
   "source": [
    "def draw_orbit(ax):\n",
    "    ax.plot(*(np.transpose(xyz[:,:2])))\n",
    "    ax.set_aspect('equal')\n",
    "    rmars=np.mean(spice.bodvrd('MARS','RADII',3)[1])\n",
    "    mars = plt.Circle((0, 0), rmars, color='#BC2A3A')\n",
    "    ax.add_artist(mars)\n",
    "\n",
    "    sunarrowend=(sunxyz[0]*2e4,sunxyz[1]*2e4)\n",
    "    sunarrowstart=(sunxyz[0]*1.5*rmars,sunxyz[1]*1.5*rmars)\n",
    "    ax.annotate('',\n",
    "                xy=sunarrowstart,xytext=sunarrowend,\n",
    "                arrowprops=dict(facecolor='black',edgecolor='black',width=0,headwidth=5,headlength=5));\n",
    "    ax.text(2e4,4e3,'Sunlight',ha='right',va='bottom',fontsize=6);"
   ]
  },
  {
   "cell_type": "code",
   "execution_count": null,
   "metadata": {},
   "outputs": [],
   "source": [
    "trueanomalylist=[]\n",
    "for s,t in zip(statelist,etlist):\n",
    "    trueanomalylist.append(spice.oscltx(s,t,marsmu)[-3])"
   ]
  },
  {
   "cell_type": "code",
   "execution_count": null,
   "metadata": {},
   "outputs": [],
   "source": [
    "orbit_plane_angles=[]\n",
    "for s in statelist:\n",
    "    p=s[:3]/np.linalg.norm(s[:3])\n",
    "    x=np.dot(p,-peri_vec)\n",
    "    y=np.dot(p,cross_vec)\n",
    "    orbit_plane_angles.append(np.arctan2(y,x))"
   ]
  },
  {
   "cell_type": "markdown",
   "metadata": {},
   "source": [
    "For some reason the true anomaly reported by spice is not symmetric around the orbit??"
   ]
  },
  {
   "cell_type": "code",
   "execution_count": null,
   "metadata": {},
   "outputs": [],
   "source": [
    "#now let's find the values we're interested in\n",
    "nimgs=6\n",
    "view_peri_angles=np.linspace(0,2*np.pi,nimgs+1)[:nimgs]\n",
    "\n",
    "view_peri_angles=[a if a<np.pi else a-2*np.pi for a in view_peri_angles]\n",
    "\n",
    "view_et=[etlist[(np.abs(orbit_plane_angles-v)).argmin()] for v in view_peri_angles]"
   ]
  },
  {
   "cell_type": "code",
   "execution_count": null,
   "metadata": {},
   "outputs": [],
   "source": [
    "view_state=spice.spkezr('-200000',view_et,'MAVEN_MSO','NONE','MARS')[0]\n",
    "view_state=np.array(view_state)"
   ]
  },
  {
   "cell_type": "code",
   "execution_count": null,
   "metadata": {},
   "outputs": [],
   "source": [
    "viewxyz=[]\n",
    "for s in view_state:\n",
    "    viewxyz.append([np.dot(s[:3],x_vec),np.dot(s[:3],y_vec),np.dot(s[:3],normal_vec)])\n",
    "viewxyz=np.array(viewxyz)\n",
    "view_sun_angles=[np.arctan2(p[1],p[0]) for p in viewxyz]"
   ]
  },
  {
   "cell_type": "code",
   "execution_count": null,
   "metadata": {},
   "outputs": [],
   "source": [
    "def lookdir(az,ax,center_dir,right_dir,up_dir):\n",
    "    angle1=R.from_rotvec(-az*up_dir).as_matrix()\n",
    "    angle2=R.from_rotvec(ax*right_dir).as_matrix()\n",
    "    return np.array([*map(lambda x:np.matmul(x,center_dir),\n",
    "                          [*map(np.matmul,angle1,angle2)])])"
   ]
  },
  {
   "cell_type": "code",
   "execution_count": null,
   "metadata": {},
   "outputs": [],
   "source": [
    "def get_obs_vectors(pos,angle=30,npix=600):\n",
    "    #pos is the spacecraft position in cm\n",
    "    posdir=pos/np.linalg.norm(pos)\n",
    "\n",
    "    right_dir=sundirection[:3]/np.linalg.norm(sundirection[:3])\n",
    "    right_dir=right_dir-np.dot(right_dir,posdir)*posdir\n",
    "    right_dir=right_dir/np.linalg.norm(right_dir)\n",
    "    \n",
    "    up_dir=[0,0,1]\n",
    "    up_dir=up_dir-np.dot(up_dir,posdir)*posdir-np.dot(right_dir,up_dir)*right_dir\n",
    "    up_dir=up_dir/np.linalg.norm(up_dir)\n",
    "    #ensure that the illuminated portion of the atmosphere is to the right, \n",
    "    #checking the MSO y-component to see which side of the planet we're on\n",
    "    if posdir[1]>0:\n",
    "        up_dir=-up_dir    \n",
    "    \n",
    "    #print(np.dot(posdir,right_dir))\n",
    "    #print(np.dot(posdir,up_dir))\n",
    "    #print(np.dot(up_dir,right_dir))\n",
    "\n",
    "    center_dir=-posdir\n",
    "    lookangles=np.linspace(-angle*np.pi/180.,angle*np.pi/180.,npix)\n",
    "    \n",
    "    anglepairs=np.array([([ax],[az]) for az in lookangles for ax in lookangles])\n",
    "    all_lookangles=lookdir(anglepairs[:,0],anglepairs[:,1],center_dir,right_dir,up_dir)\n",
    "    all_pos = np.array([pos for i in all_lookangles])\n",
    "    return (all_pos, all_lookangles)"
   ]
  },
  {
   "cell_type": "code",
   "execution_count": null,
   "metadata": {},
   "outputs": [],
   "source": [
    "def fig2rgb_array(fig):\n",
    "    fig.canvas.draw()\n",
    "    buf = fig.canvas.tostring_rgb()\n",
    "    ncols, nrows = fig.canvas.get_width_height()\n",
    "    return np.frombuffer(buf, dtype=np.uint8).reshape(nrows, ncols, 3)"
   ]
  },
  {
   "cell_type": "code",
   "execution_count": null,
   "metadata": {},
   "outputs": [],
   "source": [
    "import matplotlib.lines as mlines\n",
    "\n",
    "def place_obsimage(ax,img,xyorb_loc,xyimg_loc,size=11000,align=(0,0),widthratio=2):\n",
    "    \n",
    "    x0=xyimg_loc[0]-widthratio*size*(1-align[0])/2\n",
    "    x1=xyimg_loc[0]+widthratio*size*(1+align[0])/2\n",
    "    y0=xyimg_loc[1]-size*(1-align[1])/2\n",
    "    y1=xyimg_loc[1]+size*(1+align[1])/2\n",
    "    \n",
    "    \n",
    "    l = mlines.Line2D([xyorb_loc[0],xyimg_loc[0]], [xyorb_loc[1],xyimg_loc[1]],zorder=10,lw=0.5)\n",
    "    ax.add_line(l)\n",
    "#    print((x0,x1,y0,y1))\n",
    "    \n",
    "    ax.imshow(img,extent=(x0,x1,y0,y1),zorder=50)"
   ]
  },
  {
   "cell_type": "code",
   "execution_count": null,
   "metadata": {},
   "outputs": [],
   "source": [
    "def place_orbit_images(ax,viewxyz,viewimgs,imgsize=50000,label_emissions=True,widthratio=2):\n",
    "    posangle=np.mod((np.array(view_peri_angles)+np.pi)+np.pi/6,2*np.pi)-np.pi\n",
    "    img_pos_idx=[np.abs(posangle-a).argmin() for a in view_sun_angles]\n",
    "    posdist=[12e4,5.5e4]\n",
    "    img_pos=np.array([[posdist[0]*np.cos(a),posdist[1]*np.sin(a)] for a in posangle])\n",
    "    img_pos[1][1]+=2.5e4\n",
    "    img_pos[-2][1]-=2.5e4\n",
    "    for idx,(orb_pos,pos_idx) in enumerate(zip(viewxyz,img_pos_idx)):\n",
    "        place_obsimage(ax,viewimgs[idx],orb_pos[:2],img_pos[pos_idx],size=imgsize,widthratio=widthratio)\n",
    "    if label_emissions:\n",
    "        ax.text(-14e4,5.5e4,\"Ly \"+r\"$\\beta$\")\n",
    "        ax.text(-9e4,5.5e4,\"Ly \"+r\"$\\alpha$\")"
   ]
  },
  {
   "cell_type": "markdown",
   "metadata": {},
   "source": [
    "# O 102.6 nm source function sensitivity studies"
   ]
  },
  {
   "cell_type": "code",
   "execution_count": null,
   "metadata": {},
   "outputs": [],
   "source": [
    "pycorona.O_1026_generate_source_function(1e7,200,1.69e-3)"
   ]
  },
  {
   "cell_type": "code",
   "execution_count": null,
   "metadata": {},
   "outputs": [],
   "source": [
    "def get_O_1026_brightness(pos,angle=30,npix=300):\n",
    "    all_pos,all_lookangles=get_obs_vectors(pos,angle=angle,npix=npix)\n",
    "    pycorona.add_observation(all_pos,all_lookangles)\n",
    "    return pycorona.O_1026_brightness()"
   ]
  },
  {
   "cell_type": "code",
   "execution_count": null,
   "metadata": {},
   "outputs": [],
   "source": [
    "def plot_O_1026_brightness(brightness,dim=None,show=True):\n",
    "    if dim==None:\n",
    "        npix=int(np.sqrt(len(brightness[0])))\n",
    "        dim=(npix,npix)\n",
    "    \n",
    "    f, (ax_im) = plt.subplots(ncols=1, figsize=(2,2), dpi=200)\n",
    "    plt.subplots_adjust(top = 1, bottom = 0, right = 1, left = 0, hspace = 0, wspace = 0)\n",
    "    plt.margins(0,0)\n",
    "\n",
    "    import copy\n",
    "    o_1026_cmap = copy.copy(idl_colorbars.getcmap(105)) # copy the default cmap\n",
    "    o_1026_cmap.set_bad((0,0,0))\n",
    "\n",
    "    all_lines_brightness = 1000*np.sum(brightness,axis=0)\n",
    "    \n",
    "    im = ax_im.imshow(all_lines_brightness.reshape(dim), cmap=o_1026_cmap, norm=PowerNorm(1,vmin=0.0, vmax=40, clip=True))\n",
    "    ax_im.set_axis_off()\n",
    "    ax_im.xaxis.set_major_locator(plt.NullLocator())\n",
    "    ax_im.yaxis.set_major_locator(plt.NullLocator())\n",
    "   \n",
    "    f.canvas.draw()\n",
    "    rgb_array=fig2rgb_array(f)\n",
    "    \n",
    "    if show==False:\n",
    "        plt.close()\n",
    "    \n",
    "    return rgb_array"
   ]
  },
  {
   "cell_type": "code",
   "execution_count": null,
   "metadata": {},
   "outputs": [],
   "source": [
    "o_1026_brightness_view=[]\n",
    "for s in view_state:\n",
    "    o_1026_brightness_view.append(get_O_1026_brightness(s[:3]*1e5,angle=12.5))"
   ]
  },
  {
   "cell_type": "code",
   "execution_count": null,
   "metadata": {},
   "outputs": [],
   "source": [
    "np.max(1000*np.sum(o_1026_brightness_view,axis=1))"
   ]
  },
  {
   "cell_type": "code",
   "execution_count": null,
   "metadata": {},
   "outputs": [],
   "source": [
    "o_1026_viewimgs=[]\n",
    "for im in o_1026_brightness_view:\n",
    "    o_1026_viewimgs.append(plot_O_1026_brightness(im,show=False));"
   ]
  },
  {
   "cell_type": "code",
   "execution_count": null,
   "metadata": {},
   "outputs": [],
   "source": [
    "fig, ax_sym = plt.subplots(1,dpi=200,)\n",
    "fig.patch.set_facecolor('white')\n",
    "\n",
    "draw_orbit(ax_sym)\n",
    "ax_sym.scatter(viewxyz[:,0],viewxyz[:,1])\n",
    "\n",
    "place_orbit_images(ax_sym,viewxyz,o_1026_viewimgs,widthratio=1,label_emissions=False)\n",
    "\n",
    "ax_sym.autoscale(True)\n",
    "ax_sym.set_axis_off()\n",
    "\n",
    "fig.canvas.draw()\n",
    "plt.tight_layout()"
   ]
  },
  {
   "cell_type": "code",
   "execution_count": null,
   "metadata": {},
   "outputs": [],
   "source": [
    "solar_lyman_beta_flux_Hz = 1.69e-3\n",
    "\n",
    "def get_source_function_O_1026(nO, T, fname=None):\n",
    "    if fname is None:\n",
    "        fname = tempfile.NamedTemporaryFile().name\n",
    "        pycorona.O_1026_generate_source_function(nO, T, solar_lyman_beta_flux_Hz, sourcefn_fname=fname)\n",
    "    sourcefn_file=np.loadtxt(fname,dtype=str,delimiter=\"\\n\")\n",
    "    sfn=dict()\n",
    "    sfn_dict_append(sfn,sourcefn_file)\n",
    "    return sfn"
   ]
  },
  {
   "cell_type": "code",
   "execution_count": null,
   "metadata": {},
   "outputs": [],
   "source": [
    "O_1026_sfn=get_source_function_O_1026(2e7,200)\n",
    "O_1026_sfn['O_1026']['Species density [cm-3]']['lower state 2'][0]"
   ]
  },
  {
   "cell_type": "code",
   "execution_count": null,
   "metadata": {},
   "outputs": [],
   "source": [
    "def get_O_1026_relative_source_function(O_density, T_exo, fname=None):\n",
    "    opt_thin_upper_state_1_fraction = solar_lyman_beta_flux_Hz*2.00e-4*2.647e-2/(1.0697e8)\n",
    "    opt_thin_upper_state_2_fraction = solar_lyman_beta_flux_Hz*3.01e-3*2.647e-2/(1.0714e8)\n",
    "    opt_thin_upper_state_3_fraction = solar_lyman_beta_flux_Hz*1.69e-2*2.647e-2/(1.0750e8)\n",
    "    \n",
    "    O_1026_sfn = get_source_function_O_1026(O_density, T_exo, fname=fname)\n",
    "    \n",
    "    lower_state_2 = O_1026_sfn['O_1026']['Species density [cm-3]']['lower state 2']\n",
    "    \n",
    "    opt_thin_upper_state_1 = lower_state_2*opt_thin_upper_state_1_fraction;\n",
    "    opt_thin_upper_state_2 = lower_state_2*opt_thin_upper_state_2_fraction;\n",
    "    opt_thin_upper_state_3 = lower_state_2*opt_thin_upper_state_3_fraction;\n",
    "    \n",
    "    upper_state_rel_1 = O_1026_sfn['O_1026']['Source function']['upper state 0']/opt_thin_upper_state_1\n",
    "    upper_state_rel_2 = O_1026_sfn['O_1026']['Source function']['upper state 1']/opt_thin_upper_state_2\n",
    "    upper_state_rel_3 = O_1026_sfn['O_1026']['Source function']['upper state 2']/opt_thin_upper_state_3\n",
    "    \n",
    "    overall_upper_state_enhancement = ((O_1026_sfn['O_1026']['Source function']['upper state 0']\n",
    "                                       +O_1026_sfn['O_1026']['Source function']['upper state 1']\n",
    "                                       +O_1026_sfn['O_1026']['Source function']['upper state 2'])\n",
    "                                       /(opt_thin_upper_state_1\n",
    "                                         +opt_thin_upper_state_2\n",
    "                                         +opt_thin_upper_state_3))\n",
    "    \n",
    "    O_1026_sfn['O_1026']['upper state relative densities'] = np.array([upper_state_rel_1,\n",
    "                                                                       upper_state_rel_2,\n",
    "                                                                       upper_state_rel_3])\n",
    "    \n",
    "    O_1026_sfn['O_1026']['overall upper state enhancement'] = overall_upper_state_enhancement\n",
    "    \n",
    "    return O_1026_sfn"
   ]
  },
  {
   "cell_type": "code",
   "execution_count": null,
   "metadata": {},
   "outputs": [],
   "source": [
    "sfn=get_O_1026_relative_source_function(2e7,200)"
   ]
  },
  {
   "cell_type": "code",
   "execution_count": null,
   "metadata": {},
   "outputs": [],
   "source": [
    "sfn['radial boundaries [cm]']"
   ]
  },
  {
   "cell_type": "code",
   "execution_count": null,
   "metadata": {},
   "outputs": [],
   "source": [
    "sfn['O_1026']['Temperature [K]'][0]"
   ]
  },
  {
   "cell_type": "code",
   "execution_count": null,
   "metadata": {},
   "outputs": [],
   "source": [
    "sfn['O_1026']['Species density [cm-3]']['lower state 2'][0]"
   ]
  },
  {
   "cell_type": "code",
   "execution_count": null,
   "metadata": {},
   "outputs": [],
   "source": [
    "sfn['O_1026']['Species single scattering tau']['line 4'][0]"
   ]
  },
  {
   "cell_type": "code",
   "execution_count": null,
   "metadata": {},
   "outputs": [],
   "source": [
    "sfn['O_1026']['Species single scattering source function S0']['upper state 2'][0]"
   ]
  },
  {
   "cell_type": "code",
   "execution_count": null,
   "metadata": {},
   "outputs": [],
   "source": [
    "sfn['O_1026']['Source function']['upper state 0'][0]"
   ]
  },
  {
   "cell_type": "code",
   "execution_count": null,
   "metadata": {},
   "outputs": [],
   "source": [
    "plt.plot(1e-5*(sfn['pts radii [cm]']-3395e5),sfn['O_1026']['overall upper state enhancement'][0]);\n",
    "plt.axhline(1.15)"
   ]
  },
  {
   "cell_type": "code",
   "execution_count": null,
   "metadata": {},
   "outputs": [],
   "source": [
    "sfn['O_1026'].keys()"
   ]
  },
  {
   "cell_type": "code",
   "execution_count": null,
   "metadata": {},
   "outputs": [],
   "source": [
    "fig, ax = plt.subplots(1)\n",
    "\n",
    "ax.plot(sfn['O_1026']['Species single scattering source function S0']['upper state 0'][0], sfn['O_1026']['Species single scattering tau']['line 5'][0])\n",
    "ax.plot(sfn['O_1026']['Species single scattering source function S0']['upper state 1'][0], sfn['O_1026']['Species single scattering tau']['line 5'][0])\n",
    "ax.plot(sfn['O_1026']['Species single scattering source function S0']['upper state 2'][0], sfn['O_1026']['Species single scattering tau']['line 5'][0])\n",
    "ax.set_yscale('log')\n",
    "ax.invert_yaxis()\n",
    "ax.set_xscale('log')\n",
    "ax.axhline(1, color='0.5')"
   ]
  },
  {
   "cell_type": "code",
   "execution_count": null,
   "metadata": {},
   "outputs": [],
   "source": [
    "fig, ax = plt.subplots(ncols=2, sharey=True)\n",
    "\n",
    "ax[0].plot(sfn['O_1026']['Source function']['upper state 0'][0]/(sfn['O_1026']['Source function']['upper state 0'][0]\n",
    "                                                              +sfn['O_1026']['Source function']['upper state 1'][0]\n",
    "                                                              +sfn['O_1026']['Source function']['upper state 2'][0]),\n",
    "        sfn['O_1026']['Species single scattering tau']['line 5'][0])\n",
    "ax[0].plot(sfn['O_1026']['Source function']['upper state 1'][0]/(sfn['O_1026']['Source function']['upper state 0'][0]\n",
    "                                                              +sfn['O_1026']['Source function']['upper state 1'][0]\n",
    "                                                              +sfn['O_1026']['Source function']['upper state 2'][0]),\n",
    "        sfn['O_1026']['Species single scattering tau']['line 5'][0])\n",
    "ax[0].plot(sfn['O_1026']['Source function']['upper state 2'][0]/(sfn['O_1026']['Source function']['upper state 0'][0]\n",
    "                                                              +sfn['O_1026']['Source function']['upper state 1'][0]\n",
    "                                                              +sfn['O_1026']['Source function']['upper state 2'][0]),\n",
    "        sfn['O_1026']['Species single scattering tau']['line 5'][0])\n",
    "ax[0].set_yscale('log')\n",
    "ax[0].invert_yaxis()\n",
    "ax[0].axhline(1, color='0.5')\n",
    "\n",
    "ax[1].plot(sfn['O_1026']['Source function']['upper state 0'][0], sfn['O_1026']['Species single scattering tau']['line 5'][0])\n",
    "ax[1].plot(sfn['O_1026']['Source function']['upper state 1'][0], sfn['O_1026']['Species single scattering tau']['line 5'][0])\n",
    "ax[1].plot(sfn['O_1026']['Source function']['upper state 2'][0], sfn['O_1026']['Species single scattering tau']['line 5'][0])\n",
    "\n",
    "\n",
    "ax[1].set_xscale('log')\n",
    "ax[1].axhline(1, color='0.5')\n",
    "ax[1].set_xlim([1e-16,1e-6])"
   ]
  },
  {
   "cell_type": "code",
   "execution_count": null,
   "metadata": {},
   "outputs": [],
   "source": [
    "plt.plot(1e-5*(sfn['pts radii [cm]']-3395e5), sfn['O_1026']['Species single scattering tau']['line 3'][0], marker='.')\n",
    "plt.plot(1e-5*(sfn['pts radii [cm]']-3395e5), sfn['O_1026']['Species single scattering tau']['line 4'][0], marker='.')\n",
    "plt.plot(1e-5*(sfn['pts radii [cm]']-3395e5), sfn['O_1026']['Species single scattering tau']['line 5'][0], marker='.')\n",
    "plt.plot(1e-5*(sfn['pts radii [cm]']-3395e5), sfn['O_1026']['Absorber single scattering tau']['line 0'][0], marker='.')\n",
    "plt.yscale('log')\n",
    "plt.axhline(1,color='0.5')\n",
    "plt.axhline(10,color='0.5')\n",
    "plt.axvline(200,color='0.5')"
   ]
  },
  {
   "cell_type": "code",
   "execution_count": null,
   "metadata": {},
   "outputs": [],
   "source": [
    "sfn['O_1026']['Absorber single scattering tau']['line 0'][0]"
   ]
  },
  {
   "cell_type": "code",
   "execution_count": null,
   "metadata": {},
   "outputs": [],
   "source": [
    "cmap = idl_colorbars.getcmap(80,reverse=True)\n",
    "\n",
    "fig, ax = plt.subplots(nrows=2, sharex=True)\n",
    "\n",
    "nsza = len(sfn['pts sza [rad]'])\n",
    "for isza in range(nsza):\n",
    "    ax[0].plot(sfn['O_1026']['Species single scattering tau']['line 5'][0], \n",
    "               sfn['O_1026']['Source function']['upper state 2'][isza],\n",
    "               color=cmap(isza/(nsza-1)));\n",
    "    ax[0].plot(sfn['O_1026']['Species single scattering tau']['line 5'][0], \n",
    "               sfn['O_1026']['Species single scattering source function S0']['upper state 2'][isza],\n",
    "               color=cmap(isza/(nsza-1)),\n",
    "               lw=0.5);\n",
    "    \n",
    "thickthinratio = (sfn['O_1026']['Source function']['upper state 2'][0]\n",
    "                  /\n",
    "                  sfn['O_1026']['Species single scattering source function S0']['upper state 2'][0])    \n",
    "\n",
    "for isza in range(nsza):\n",
    "    ax[1].plot(sfn['O_1026']['Species single scattering tau']['line 5'][0], \n",
    "               thickthinratio,\n",
    "               color=cmap(0));\n",
    "    \n",
    "ax[0].set_xscale('log')\n",
    "ax[1].set_ylim(1,4)"
   ]
  },
  {
   "cell_type": "code",
   "execution_count": null,
   "metadata": {},
   "outputs": [],
   "source": [
    "thickthinratio"
   ]
  },
  {
   "cell_type": "code",
   "execution_count": null,
   "metadata": {},
   "outputs": [],
   "source": [
    "import idl_colorbars"
   ]
  },
  {
   "cell_type": "code",
   "execution_count": null,
   "metadata": {},
   "outputs": [],
   "source": [
    "def plot_O_1026_sourcefn(sfn, x_alt=True):\n",
    "    \n",
    "    fig, ax = plt.subplots(ncols=3,figsize=(13,4),sharex=False,sharey=True,gridspec_kw={'wspace':0.15})\n",
    "    \n",
    "    if x_alt:\n",
    "        alt = 1e-5*(sfn['pts radii [cm]']-3395e5)\n",
    "        x = [alt, alt, alt]\n",
    "#         ax[0].set_xlim([100,700])\n",
    "#         ax[1].set_xlim([100,700])\n",
    "#         ax[2].set_xlim([100,700])\n",
    "        ax[0].set_xlabel('Altitude [km]')\n",
    "    else:\n",
    "        tau0 = [sfn['O_1026']['Species single scattering tau']['line 3'][0],\n",
    "                sfn['O_1026']['Species single scattering tau']['line 4'][0],\n",
    "                sfn['O_1026']['Species single scattering tau']['line 5'][0]]\n",
    "        x = tau0\n",
    "        #x = np.repeat(np.sum(x, axis=0)[np.newaxis,:],3, axis=0)\n",
    "        ax[0].set_xscale('log')\n",
    "        ax[1].set_xscale('log')\n",
    "        ax[2].set_xscale('log')\n",
    "        ax[0].set_xlim([1e0,1e-8])\n",
    "        ax[1].set_xlim([1e1,1e-7])\n",
    "        ax[2].set_xlim([1e2,1e-6])\n",
    "        ax[0].set_xlabel(r'Line Center $\\tau$')\n",
    "        \n",
    "    \n",
    "    cmap = idl_colorbars.getcmap(80,reverse=True)\n",
    "    \n",
    "    nsza = len(sfn['pts sza [rad]'])\n",
    "    for isza in range(nsza):\n",
    "        ax[0].plot(x[0], sfn['O_1026']['upper state relative densities'][0][isza], color=cmap(isza/(nsza-1)))\n",
    "        ax[1].plot(x[1], sfn['O_1026']['upper state relative densities'][1][isza], color=cmap(isza/(nsza-1)))\n",
    "        ax[2].plot(x[2], sfn['O_1026']['upper state relative densities'][2][isza], color=cmap(isza/(nsza-1)))\n",
    "    \n",
    "    ax[0].set_title('upper state J=1')\n",
    "    ax[1].set_title('J=2')\n",
    "    ax[2].set_title('J=3')\n",
    "    \n",
    "    ax[0].set_ylabel('Upper State Density / Optically Thin Density')\n",
    "    \n",
    "\n",
    "    ax[0].set_ylim([0,2.75])"
   ]
  },
  {
   "cell_type": "code",
   "execution_count": null,
   "metadata": {},
   "outputs": [],
   "source": [
    "plot_O_1026_sourcefn(sfn, x_alt=False)"
   ]
  },
  {
   "cell_type": "code",
   "execution_count": null,
   "metadata": {},
   "outputs": [],
   "source": [
    "plot_O_1026_sourcefn(sfn, x_alt=True)"
   ]
  },
  {
   "cell_type": "code",
   "execution_count": null,
   "metadata": {},
   "outputs": [],
   "source": [
    "plot_O_1026_sourcefn(get_O_1026_relative_source_function(2e7,200), x_alt=True)"
   ]
  },
  {
   "cell_type": "code",
   "execution_count": null,
   "metadata": {},
   "outputs": [],
   "source": [
    "plot_O_1026_sourcefn(get_O_1026_relative_source_function(2e7,200, fname='/home/mike/Documents/Mars/3D_planetary_RT_model/test/test_source_function_O_1026_40x20x7x12.dat'), x_alt=True)"
   ]
  },
  {
   "cell_type": "code",
   "execution_count": null,
   "metadata": {},
   "outputs": [],
   "source": [
    "plot_O_1026_sourcefn(get_O_1026_relative_source_function(2e7,200, fname='/home/mike/Documents/Mars/3D_planetary_RT_model/test/test_source_function_O_1026_80x80x7x12.dat'), x_alt=True)"
   ]
  },
  {
   "cell_type": "code",
   "execution_count": null,
   "metadata": {},
   "outputs": [],
   "source": [
    "plot_O_1026_sourcefn(get_O_1026_relative_source_function(2e7,200, fname='/home/mike/Documents/Mars/3D_planetary_RT_model/test/test_source_function_O_1026_40x20x21x36.dat'), x_alt=True)"
   ]
  },
  {
   "cell_type": "code",
   "execution_count": null,
   "metadata": {},
   "outputs": [],
   "source": [
    "pp_sfn = get_O_1026_relative_source_function(2e7, 200, fname='/home/mike/Documents/Mars/3D_planetary_RT_model/test/test_source_function_O_1026_40x6.dat')\n",
    "\n",
    "plt.plot(1e-5*(sfn['pts radii [cm]']-3395e5),pp_sfn['O_1026']['upper state relative densities'][0]);\n",
    "plt.plot(1e-5*(sfn['pts radii [cm]']-3395e5),pp_sfn['O_1026']['upper state relative densities'][1]);\n",
    "plt.plot(1e-5*(sfn['pts radii [cm]']-3395e5),pp_sfn['O_1026']['upper state relative densities'][2]);"
   ]
  },
  {
   "cell_type": "code",
   "execution_count": null,
   "metadata": {},
   "outputs": [],
   "source": [
    "def get_O_1026_relative_upper_state_density():\n",
    "    sfn_reference = get_O_1026_relative_source_function(2e7,200)\n",
    "    reference_alt = 1e-5*(sfn_reference['pts radii [cm]']-3395e5)\n",
    "    reference_density = sfn_reference['O_1026']['Source function']['upper state 2'][0]\n",
    "    \n",
    "    density_comp_alt = []\n",
    "    density_comp = []\n",
    "    for O_density in [0.5e7, 1e7, 4e7, 8e7]:\n",
    "        sfn=get_O_1026_relative_source_function(O_density,200)\n",
    "        density_comp_alt.append(1e-5*(sfn['pts radii [cm]']-3395e5))\n",
    "        density_comp.append(sfn['O_1026']['Source function']['upper state 2'][0])\n",
    "        \n",
    "    temp_comp_alt = []\n",
    "    temp_comp = []\n",
    "    for O_temp in [100,150,250,300]:\n",
    "        sfn=get_O_1026_relative_source_function(2e7,O_temp)\n",
    "        temp_comp_alt.append(1e-5*(sfn['pts radii [cm]']-3395e5))\n",
    "        temp_comp.append(sfn['O_1026']['Source function']['upper state 2'][0])\n",
    "        \n",
    "    return [[reference_alt, reference_density], [density_comp_alt, density_comp], [temp_comp_alt, temp_comp]]"
   ]
  },
  {
   "cell_type": "code",
   "execution_count": null,
   "metadata": {
    "tags": []
   },
   "outputs": [],
   "source": [
    "comp_data = get_O_1026_relative_upper_state_density()"
   ]
  },
  {
   "cell_type": "code",
   "execution_count": null,
   "metadata": {},
   "outputs": [],
   "source": [
    "fig, ax = plt.subplots(nrows=2,figsize=(6,5),sharex=True,sharey=True,gridspec_kw={'hspace':0.075})\n",
    "ax[0].set_xlim([100,700])\n",
    "ax[0].plot(comp_data[0][0],1e8*comp_data[0][1],color='gray')\n",
    "ax[1].plot(comp_data[0][0],1e8*comp_data[0][1],color='gray')\n",
    "\n",
    "ax[0].set_title('Excited State Density, Subsolar J=3')\n",
    "ax[0].set_ylabel('Density [10$^{-8}$ cm$^{-3}$]')\n",
    "ax[1].set_xlabel('Altitude [km]')\n",
    "\n",
    "dens_colors = [idl_colorbars.getcmap(54)(x) for x in [0.2,0.3,0.7,0.8]]\n",
    "for alt, dens, color in zip(comp_data[1][0],comp_data[1][1], dens_colors):\n",
    "    ax[0].plot(alt,1e8*dens,color=color)\n",
    "\n",
    "ax[0].text(x=300,y=3.8,s='O Exobase Density [10$^7$ cm$^{-3}$]\\n0.5   1.0   2.0   4.0   8.0')\n",
    "\n",
    "temp_colors = [idl_colorbars.getcmap(70)(x) for x in [0.8,0.7,0.3,0.2]]\n",
    "for alt, dens, color in zip(comp_data[2][0],comp_data[2][1], temp_colors):\n",
    "    ax[1].plot(alt,1e8*dens,color=color)\n",
    "\n",
    "ax[1].text(x=300,y=3.8,s='Exobase Temperature\\n100K   150K   200K   250K   300K');\n",
    "\n",
    "    \n",
    "#ax.set_xscale('log')\n",
    "#ax.set_yscale('log')\n",
    "#ax.set_ylim([1e-12,1e-7]);"
   ]
  },
  {
   "cell_type": "code",
   "execution_count": null,
   "metadata": {},
   "outputs": [],
   "source": []
  },
  {
   "cell_type": "code",
   "execution_count": null,
   "metadata": {},
   "outputs": [],
   "source": []
  }
 ],
 "metadata": {
  "kernelspec": {
   "display_name": "Python 3 (ipykernel)",
   "language": "python",
   "name": "python3"
  },
  "language_info": {
   "codemirror_mode": {
    "name": "ipython",
    "version": 3
   },
   "file_extension": ".py",
   "mimetype": "text/x-python",
   "name": "python",
   "nbconvert_exporter": "python",
   "pygments_lexer": "ipython3",
   "version": "3.10.13"
  }
 },
 "nbformat": 4,
 "nbformat_minor": 4
}
